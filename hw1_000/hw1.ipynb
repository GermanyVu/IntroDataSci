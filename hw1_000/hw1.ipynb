{
 "cells": [
  {
   "cell_type": "markdown",
   "metadata": {},
   "source": [
    "## Homework 1: Importing Datasets and Playing with Pandas\n",
    "\n",
    "Data Science is focused on using tools to access, analyze, and find meaningful results in data.  Now that we know some basic Python programming, we are ready to do begin to use our first dataset!\n",
    "\n",
    "### CSV File Format\n",
    "\n",
    "One widely used file format to store datasets is as **CSV** or **Comma-Separated Values**.  The CSV file maps extremely well between a spreadsheet program (ex: Microsoft Excel, Google Sheets) and programming languages.  Specifically:\n",
    "\n",
    "- Every row on a spreadsheet is a line in a CSV file\n",
    "- Every column on a spreadsheet is separated by a comma in a CSV file"
   ]
  },
  {
   "cell_type": "markdown",
   "metadata": {},
   "source": [
    "### Download the UIUC Course Catalog as a CSV\n",
    "\n",
    "Let's grab the first dataset we will use!  For this dataset, we have already collected and put the data into a Google Sheet for you.  You will need to download the file as a CSV and place it in the same directory as this Python notebook.\n",
    "\n",
    "1. Open the Google Sheet for the \"UIUC Course Catalog Dataset\": https://docs.google.com/spreadsheets/d/1Rib9J9ty_ChZWaszuO6dnPG3Lc1Muxq_G4HnpD1UeeA\n",
    "\n",
    "2. Choose **File** -> **Download As** -> **Comma-separated Values (.csv, current sheet)**\n",
    "\n",
    "3. Find the downloaded file on your computer and move it into the same directory as this notebook.\n",
    "  * The file is likely in your Downloads as `UIUC Course Catalog Dataset - Sheet1.csv`\n",
    "  * You notebook is likely on your Desktop under `cs296 -> [netid] -> hw1`\n",
    "  * You need to ensure the downloaded file is in the `hw1` folder before running the next cell."
   ]
  },
  {
   "cell_type": "markdown",
   "metadata": {},
   "source": [
    "### Using Pandas to Read CSV Files\n",
    "\n",
    "In Data Science, we will use the `pandas` **library** for working with data.  Libraries are collections of functions and other objects that extend what Python can do by itself.  The `pandas` library is the most widely used library for data science.\n",
    "\n",
    "To use the `pandas` library, we must **import** it into your notebook.  In future labs, you will find this will be one of the first lines we will run in every notebook:"
   ]
  },
  {
   "cell_type": "code",
   "execution_count": 2,
   "metadata": {},
   "outputs": [],
   "source": [
    "import pandas as pd"
   ]
  },
  {
   "cell_type": "markdown",
   "metadata": {},
   "source": [
    "To use a function inside of the pandas library, the function name will always start with `pandas.` to denote that Python can find it within the `pandas` library.  The first function we will use from the `pandas` library is `read_csv`.\n",
    "- Because `read_csv` is in the pandas library, the full function name is `pd.read_csv()`."
   ]
  },
  {
   "cell_type": "markdown",
   "metadata": {},
   "source": [
    "### Puzzle 1:\n",
    "\n",
    "The `pd.read_csv` function's first parameter is the name of the file that it is reading.  Set the variable `df` to be the result of the `pandas.read_csv` function:"
   ]
  },
  {
   "cell_type": "code",
   "execution_count": 20,
   "metadata": {},
   "outputs": [],
   "source": [
    "df = pd.read_csv('CourseCatalog.csv')  #if not in the same folder the path can be specified pd.read_csv('path')"
   ]
  },
  {
   "cell_type": "markdown",
   "metadata": {},
   "source": [
    "### Accessing a Column\n",
    "\n",
    "The dataset you downloaded has six columns: `Year`, `Term`, `YearTerm`, `Subject`, `Number`, and `Title`.  We can access a column by **indexing into the DataFrame**.  Whenever we **index into** something, we will use matchingsquare brackets: `[` and `]`.  For example, to **index into the column `Subject`**:"
   ]
  },
  {
   "cell_type": "code",
   "execution_count": 21,
   "metadata": {},
   "outputs": [
    {
     "data": {
      "text/plain": [
       "0        AAS\n",
       "1        AAS\n",
       "2        AAS\n",
       "3        AAS\n",
       "4        AAS\n",
       "5        AAS\n",
       "6        AAS\n",
       "7        AAS\n",
       "8        AAS\n",
       "9        AAS\n",
       "10       AAS\n",
       "11       AAS\n",
       "12       AAS\n",
       "13       AAS\n",
       "14       AAS\n",
       "15       AAS\n",
       "16       AAS\n",
       "17       AAS\n",
       "18       AAS\n",
       "19       AAS\n",
       "20       AAS\n",
       "21       AAS\n",
       "22       AAS\n",
       "23       AAS\n",
       "24       AAS\n",
       "25       AAS\n",
       "26       AAS\n",
       "27       AAS\n",
       "28       AAS\n",
       "29       AAS\n",
       "        ... \n",
       "8712      VM\n",
       "8713      VM\n",
       "8714      VM\n",
       "8715      VM\n",
       "8716      VM\n",
       "8717      VM\n",
       "8718      VM\n",
       "8719      VM\n",
       "8720      VM\n",
       "8721      VM\n",
       "8722      VM\n",
       "8723      VM\n",
       "8724    WLOF\n",
       "8725    WLOF\n",
       "8726    WLOF\n",
       "8727    WLOF\n",
       "8728    WLOF\n",
       "8729    WLOF\n",
       "8730    WLOF\n",
       "8731    WLOF\n",
       "8732    WRIT\n",
       "8733    WRIT\n",
       "8734    WRIT\n",
       "8735    YDSH\n",
       "8736    YDSH\n",
       "8737    YDSH\n",
       "8738    YDSH\n",
       "8739    YDSH\n",
       "8740    YDSH\n",
       "8741    YDSH\n",
       "Name: Subject, Length: 8742, dtype: object"
      ]
     },
     "execution_count": 21,
     "metadata": {},
     "output_type": "execute_result"
    }
   ],
   "source": [
    "df['Subject']"
   ]
  },
  {
   "cell_type": "markdown",
   "metadata": {},
   "source": [
    "### Puzzle 2:\n",
    "\n",
    "Find the column name and list the **name of every course** (ex: 'Data Structures') at Illinois.\n",
    "\n",
    "- You may need to refer back to the output of the DataFrame to get the correct column name."
   ]
  },
  {
   "cell_type": "code",
   "execution_count": 23,
   "metadata": {},
   "outputs": [
    {
     "data": {
      "text/plain": [
       "0                  Intro Asian American Studies\n",
       "1         Introduction to Arab American Studies\n",
       "2                 Intro to Asian Am Pop Culture\n",
       "3                    Undergraduate Open Seminar\n",
       "4                          U.S. Race and Empire\n",
       "5                   US Racial & Ethnic Politics\n",
       "6                  Asian Americans and the Arts\n",
       "7                  US Citizenship Comparatively\n",
       "8                 Asian Am Historical Sociology\n",
       "9                  Asian American Youth in Film\n",
       "10                 Asian American Ethnic Groups\n",
       "11                           Muslims in America\n",
       "12                 Intro Asian American Theatre\n",
       "13                          Politics of Hip Hop\n",
       "14                      The Politics of Fashion\n",
       "15                 Constructing Race in America\n",
       "16                       Asian American History\n",
       "17                    Asian American Literature\n",
       "18                     Food and Asian Americans\n",
       "19                   Global Islam and Feminisms\n",
       "20                             Individual Study\n",
       "21                Hinduism in the United States\n",
       "22                    Asian Families in America\n",
       "23                Begin Topics Asian Am Studies\n",
       "24      Theories of Race, Gender, and Sexuality\n",
       "25                  Race and Cultural Diversity\n",
       "26                      War, Memory, and Cinema\n",
       "27                      Asian American Politics\n",
       "28               Asian Americans & Inequalities\n",
       "29                         Asian American Youth\n",
       "                         ...                   \n",
       "8712                      Clinical Practice VII\n",
       "8713                   Professional Development\n",
       "8714                     Canine Feline Behavior\n",
       "8715                         Research Project I\n",
       "8716                        Research Project II\n",
       "8717                     The Basics of Business\n",
       "8718                    Fundamentals of Finance\n",
       "8719                 Veterinary Medical Spanish\n",
       "8720             Contemporary Issues in Vet Med\n",
       "8721                 Fundamentals of Management\n",
       "8722                 Communications in Practice\n",
       "8723                        Veterinary Medicine\n",
       "8724                         Elementary Wolof I\n",
       "8725                        Elementary Wolof II\n",
       "8726                       Intermediate Wolof I\n",
       "8727                      Intermediate Wolof II\n",
       "8728                           Advanced Wolof I\n",
       "8729                          Advanced Wolof II\n",
       "8730                  Topics Wolof Lang & Lit I\n",
       "8731                 Topics Wolof Lang & Lit II\n",
       "8732                 Undergraduate Open Seminar\n",
       "8733                 Issues in Tutoring Writing\n",
       "8734                       Writing Across Media\n",
       "8735                        Beginning Yiddish I\n",
       "8736                       Beginning Yiddish II\n",
       "8737                     Intermediate Yiddish I\n",
       "8738                    Intermediate Yiddish II\n",
       "8739                        Jewish Storytelling\n",
       "8740             Lit Responses to the Holocaust\n",
       "8741                        Jewish Life-Writing\n",
       "Name: Title, Length: 8742, dtype: object"
      ]
     },
     "execution_count": 23,
     "metadata": {},
     "output_type": "execute_result"
    }
   ],
   "source": [
    "df['Title']"
   ]
  },
  {
   "cell_type": "markdown",
   "metadata": {},
   "source": [
    "### Finding a Subset of the Data\n",
    "\n",
    "Let's find a subset of the data.  To do this, we must **index into the DataFrame** with a **conditional statement**."
   ]
  },
  {
   "cell_type": "markdown",
   "metadata": {},
   "source": [
    "### Puzzle 3:\n",
    "\n",
    "Write the conditional within a DataFrame's index to output a DataFrame that contains all of the `CS` courses."
   ]
  },
  {
   "cell_type": "code",
   "execution_count": 50,
   "metadata": {},
   "outputs": [
    {
     "name": "stdout",
     "output_type": "stream",
     "text": [
      "Freshman Orientation\n",
      "Intro Computing: Engrg & Sci\n",
      "Little Bits to Big Ideas\n",
      "Intro Computing: Non-Tech\n",
      "Intro to Computer Science\n",
      "Software Design Studio\n",
      "Discrete Structures\n",
      "Freshman Honors\n",
      "Undergraduate Open Seminar in Computer Science\n",
      "Ethical & Professional Issues\n",
      "Data Structures\n",
      "Computer Architecture\n",
      "Introduction to Computer Systems\n",
      "System Programming\n",
      "Programming Studio\n",
      "Honors Course\n",
      "Numerical Methods I\n",
      "Probability & Statistics for Computer Science\n",
      "Introduction to Algorithms & Models of Computation\n",
      "Individual Study\n",
      "Special Topics\n",
      "Text Information Systems\n",
      "Database Systems\n",
      "Introduction to Data Mining\n",
      "Intro to Combinatorics\n",
      "Multimedia Systems\n",
      "Interactive Computer Graphics\n",
      "Production Computer Graphics\n",
      "Parallel Progrmg: Sci & Engrg\n",
      "Programming Languages & Compilers\n",
      "Programming Language Design\n",
      "Operating Systems Design\n",
      "Real-Time Systems\n",
      "Distributed Systems\n",
      "Compiler Construction\n",
      "Software Engineering I\n",
      "Software Engineering II\n",
      "Software Engineering II, ACP\n",
      "Embedded Systems\n",
      "Computer System Organization\n",
      "Computer Networking Laboratory\n",
      "Communication Networks\n",
      "Wireless Networks\n",
      "Artificial Intelligence\n",
      "Computational Photography\n",
      "Machine Learning\n",
      "Natural Language Processing\n",
      "Numerical Analysis\n",
      "Numerical Methods II\n",
      "Security Laboratory\n",
      "Computer Security I\n",
      "Computer Security II\n",
      "User Interface Design\n",
      "Introduction to Bioinformatics\n",
      "Social Visualization\n",
      "Tech and Advertising Campaigns\n",
      "Algorithms\n",
      "Formal Models of Computation\n",
      "Program Verification\n",
      "Formal Software Devel Methods\n",
      "Advanced Topics in Stochastic Processes & Applications\n",
      "Simulation\n",
      "Applied Parallel Programming\n",
      "Parallel Programming\n",
      "Seminar\n",
      "Senior Project I\n",
      "Senior Project II, ACP\n",
      "Senior Project II\n",
      "CS Team Project\n",
      "Special Topics\n",
      "Senior Thesis\n",
      "Manycore Parallel Algorithms\n",
      "Advanced Information Retrieval\n",
      "Advanced Data Management\n",
      "Data Mining Principles\n",
      "Theory & Practice of Data Cleaning\n",
      "Scientific Visualization\n",
      "Programming Language Semantics\n",
      "Advanced Operating Systems\n",
      "Concurrent Progrmg Languages\n",
      "Advanced Distributed Systems\n",
      "Advanced Compiler Construction\n",
      "Topics in Software Engineering\n",
      "Obj-Oriented Progrmg & Design\n",
      "Parallel Computer Architecture\n",
      "Fault-Tolerant Dig Syst Design\n",
      "Advanced Computer Networks\n",
      "Distributed Algorithms\n",
      "Computer Systems Analysis\n",
      "Computer Vision\n",
      "Optimiz in Computer Vision\n",
      "Systems Modeling & Simulation\n",
      "Machine Learning in NLP\n",
      "Deep Learning\n",
      "Models of Cognitive Processes\n",
      "Seminar in Cognitive Science\n",
      "Parallel Numerical Algorithms\n",
      "Numerical Methods for PDEs\n",
      "Iterative & Multigrid Methods\n",
      "Topics in Numerical Analysis\n",
      "Advanced Computer Security\n",
      "Human-Computer Interaction\n",
      "Combinatorial Mathematics\n",
      "Extremal Graph Theory\n",
      "Algorithms\n",
      "Randomized Algorithms\n",
      "Methods of Combinatorics\n",
      "Topics in Automated Deduction\n",
      "Computational Complexity\n",
      "Algorithmic Genomic Biology\n",
      "Approximation Algorithms\n",
      "Embedded System Verification\n",
      "Hardware Verification\n",
      "Advanced Seminar\n",
      "Individual Study\n",
      "Special Topics\n",
      "Thesis Research\n"
     ]
    }
   ],
   "source": [
    "for i in range(0,len(df['Title'])):\n",
    "   #print(df['Subject'][0])\n",
    "\n",
    "   if (df['Subject'][i]) == 'CS':\n",
    "        print( df['Title'][i]) # must use print for some reason \n",
    "                                # it won't print automatically in condition   "
   ]
  },
  {
   "cell_type": "markdown",
   "metadata": {},
   "source": [
    "## Submit Your Work!\n",
    "\n",
    "You're almost done -- congratulations!\n",
    "\n",
    "You need to do two more things:\n",
    "\n",
    "1. Save your work.  To do this, create a **notebook checkpoint** by using the menu within the notebook to go **File -> Save and Checkpoint**\n",
    "\n",
    "2. Choose `File` and then `Close and Halt` from this notebook.\n",
    "\n",
    "3. Choose `Quit` on the main notebook webpage.\n",
    "\n",
    "4. Return to your command line and follow the directions on the honors webpage on how to use git to turn this notebook into the course!"
   ]
  }
 ],
 "metadata": {
  "kernelspec": {
   "display_name": "Python 3",
   "language": "python",
   "name": "python3"
  },
  "language_info": {
   "codemirror_mode": {
    "name": "ipython",
    "version": 3
   },
   "file_extension": ".py",
   "mimetype": "text/x-python",
   "name": "python",
   "nbconvert_exporter": "python",
   "pygments_lexer": "ipython3",
   "version": "3.6.4"
  }
 },
 "nbformat": 4,
 "nbformat_minor": 2
}
